{
 "cells": [
  {
   "cell_type": "code",
   "execution_count": 30,
   "metadata": {
    "vscode": {
     "languageId": "html"
    }
   },
   "outputs": [
    {
     "data": {
      "text/html": [
       "<style>\n",
       "body {\n",
       "    line-height: 1.5rem;\n",
       "}\n",
       "</style>  \n"
      ],
      "text/plain": [
       "<IPython.core.display.HTML object>"
      ]
     },
     "metadata": {},
     "output_type": "display_data"
    }
   ],
   "source": [
    "%%html\n",
    "<style>\n",
    "body {\n",
    "    line-height: 1.5rem;\n",
    "}\n",
    "</style>  "
   ]
  },
  {
   "attachments": {},
   "cell_type": "markdown",
   "metadata": {},
   "source": [
    "# Code Smells\n",
    "\n",
    "<details>\n",
    "  <summary>What is a code smell?</summary>\n",
    "\n",
    "  The term \"code smell\" refers to any characteristic in code that suggests a deeper problem in the design or implementation.\n",
    "</details>\n",
    "\n",
    "<i>Note, example code is just for demonstration purposes and may not show the \"best\" solution. For example, `for` loops have been used in a number of examples, however `map` or `reduce` would be my usual preference.</i>"
   ]
  },
  {
   "attachments": {},
   "cell_type": "markdown",
   "metadata": {},
   "source": [
    "## Smell 1\n",
    "\n",
    "<details>\n",
    "  <summary>What is the smell?</summary>\n",
    "\n",
    "  **The function signature (definition) has too many parameters**\n",
    "  \n",
    "  - Functions with too many parameters can be difficult to understand and maintain\n",
    "  - Calls are brittle. Passing arguments in the wrong order can result in errors or bugs.\n",
    "  - It can be a sign that the function is doing too much and should be split into smaller functions\n",
    "\n",
    "  _Tip: 3-5 parameters/arguments is a good rule to follow_\n",
    "</details>\n"
   ]
  },
  {
   "cell_type": "code",
   "execution_count": 16,
   "metadata": {
    "vscode": {
     "languageId": "javascript"
    }
   },
   "outputs": [],
   "source": [
    "%%script node\n",
    "\n",
    "function createUser(name, age, email, password, address, phone, isAdmin) {\n",
    "  // ...\n",
    "  return true;\n",
    "}\n",
    "\n",
    "createUser(\"John Doe\", 30, \"johndoe@example.com\", \"mypassword\", \"123 Main St\", \"555-555-5555\", false);"
   ]
  },
  {
   "cell_type": "code",
   "execution_count": 17,
   "metadata": {},
   "outputs": [],
   "source": [
    "def create_user(name, age, email, password, address, phone, is_admin):\n",
    "    # ...\n",
    "    True\n",
    "\n",
    "create_user(\"John Doe\", 30, \"johndoe@example.com\", \"mypassword\", \"123 Main St\", \"555-555-5555\", False);"
   ]
  },
  {
   "attachments": {},
   "cell_type": "markdown",
   "metadata": {},
   "source": [
    "### Solution\n",
    "\n",
    "In JS, instead of passing each argument separately to the function, we pass an object that contains all of the necessary properties. This makes the function easier to read and understand, and makes it easier to add or remove properties in the future."
   ]
  },
  {
   "cell_type": "code",
   "execution_count": null,
   "metadata": {
    "vscode": {
     "languageId": "javascript"
    }
   },
   "outputs": [],
   "source": [
    "%%script node\n",
    "\n",
    "function createUser(user) {\n",
    "  // ...\n",
    "  return true;\n",
    "}\n",
    "\n",
    "const user = {\n",
    "  name: 'John Doe',\n",
    "  age: 30,\n",
    "  email: 'johndoe@example.com',\n",
    "  password: 'mypassword',\n",
    "  address: '123 Main St.',\n",
    "  phone: '555-555-5555',\n",
    "  isAdmin: false\n",
    "};\n",
    "\n",
    "createUser(user);"
   ]
  },
  {
   "attachments": {},
   "cell_type": "markdown",
   "metadata": {},
   "source": [
    "In Python named arguments can be used to improve the readability of the code.\n",
    "\n",
    "Using **named (keyword) arguments** in Python offers several benefits compared to using positional arguments:\n",
    "- **Readability**: Keyword arguments make it clear which value is being passed to which parameter, making the code more self-documenting and easier to understand.\n",
    "- **Less error prone**: By using keyword arguments, you can reduce the risk of errors caused by passing arguments in the wrong order.\n",
    "- **Flexibility**: When a function has default values for some parameters, keyword arguments make it easy to pass values only for specific parameters and rely on defaults for the others. This can lead to cleaner and more concise function calls.\n",
    "- **Easier to refactor**: When using keyword arguments, adding, removing, or changing the order of parameters in a function's signature becomes less error-prone, since the function calls explicitly specify which argument corresponds to which parameter."
   ]
  },
  {
   "cell_type": "code",
   "execution_count": 2,
   "metadata": {},
   "outputs": [],
   "source": [
    "def create_user(name, age, email, password, address, phone, is_admin = False):\n",
    "    # ...\n",
    "    True\n",
    "\n",
    "create_user(\n",
    "    name='John Doe',\n",
    "    age=30,\n",
    "    email='johndoe@example.com',\n",
    "    password='mypassword',\n",
    "    address='123 Main St.',\n",
    "    phone='555-555-5555'\n",
    "    )\n",
    "\n",
    "# Or, less commonly by unpacking a dictionary...\n",
    "user = {\n",
    "  'name': 'John Doe',\n",
    "  'age': 30,\n",
    "  'email': 'johndoe@example.com',\n",
    "  'password': 'mypassword',\n",
    "  'address': '123 Main St.',\n",
    "  'phone': '555-555-5555',\n",
    "  'is_admin': False\n",
    "}\n",
    "\n",
    "create_user(**user)"
   ]
  },
  {
   "cell_type": "code",
   "execution_count": null,
   "metadata": {},
   "outputs": [],
   "source": [
    "# Python 3\n",
    "# Use \"*\" to enforce keyword-only arguments\n",
    "def create_user(*, name, age, email, password, address, phone, is_admin = False):\n",
    "    # ...\n",
    "    True"
   ]
  },
  {
   "attachments": {},
   "cell_type": "markdown",
   "metadata": {},
   "source": [
    "## Smell 2\n",
    "\n",
    "<details>\n",
    "  <summary>What is the smell?</summary>\n",
    "\n",
    "  **Poorly named variables and functions**\n",
    "  \n",
    "  Poor variable and function names make the code harder to understand, and lead to confusion and mistakes when working on the code.\n",
    "</details>"
   ]
  },
  {
   "cell_type": "code",
   "execution_count": 23,
   "metadata": {
    "vscode": {
     "languageId": "javascript"
    }
   },
   "outputs": [
    {
     "name": "stdout",
     "output_type": "stream",
     "text": [
      "15\n"
     ]
    }
   ],
   "source": [
    "%%script node\n",
    "\n",
    "function calculate(a) {\n",
    "  let b = 0;\n",
    "  for (let i = 0; i < a.length; i++) {\n",
    "    b += a[i];\n",
    "  }\n",
    "  return b;\n",
    "}\n",
    "\n",
    "const numbers = [1, 2, 3, 4, 5];\n",
    "\n",
    "console.log(calculate(numbers)); // 15"
   ]
  },
  {
   "cell_type": "code",
   "execution_count": 22,
   "metadata": {},
   "outputs": [
    {
     "name": "stdout",
     "output_type": "stream",
     "text": [
      "15\n"
     ]
    }
   ],
   "source": [
    "def calculate(a):\n",
    "    result = 0\n",
    "    for i in range(len(a)):\n",
    "        result += a[i]\n",
    "    return result\n",
    "\n",
    "numbers = [1, 2, 3, 4, 5]\n",
    "\n",
    "print(calculate(numbers)) # 15"
   ]
  },
  {
   "attachments": {},
   "cell_type": "markdown",
   "metadata": {},
   "source": [
    "### Solution\n",
    "\n",
    "In this improved version, the function is renamed to `sumArray` and `sum_array`, which better reflects its behavior. Additionally, the variable names, `numbers` and `sum`, are more descriptive, which makes it easier to understand the function's operation."
   ]
  },
  {
   "cell_type": "code",
   "execution_count": null,
   "metadata": {
    "vscode": {
     "languageId": "javascript"
    }
   },
   "outputs": [],
   "source": [
    "%%script node\n",
    "\n",
    "function sumArray(numbers) {\n",
    "  let sum = 0;\n",
    "  for (let i = 0; i < numbers.length; i++) {\n",
    "    sum += numbers[i];\n",
    "  }\n",
    "  return sum;\n",
    "}\n",
    "\n",
    "const numbers = [1, 2, 3, 4, 5];\n",
    "const sum = sumArray(numbers);\n",
    "\n",
    "console.log(sum); // Output: 15"
   ]
  },
  {
   "cell_type": "code",
   "execution_count": null,
   "metadata": {},
   "outputs": [],
   "source": [
    "def sum_array(numbers):\n",
    "    total_sum = 0\n",
    "    for number in numbers:\n",
    "        total_sum += number\n",
    "    return total_sum\n",
    "\n",
    "numbers = [1, 2, 3, 4, 5]\n",
    "sum = sum_array(numbers)\n",
    "\n",
    "print(sum) # Output: 15"
   ]
  },
  {
   "attachments": {},
   "cell_type": "markdown",
   "metadata": {},
   "source": [
    "## Smell 3\n",
    "\n",
    "<details>\n",
    "  <summary>What is the smell?</summary>\n",
    "\n",
    "  **Mixing concerns**\n",
    "  \n",
    "  \"Mixing concerns\" is a code smell that occurs when a function or a module tries to handle multiple responsibilities that should be separated into smaller, more focused pieces. This violates the Single Responsibility Principle (SRP), which states that a class or function should have only one reason to change.\n",
    "\n",
    "</details>"
   ]
  },
  {
   "cell_type": "code",
   "execution_count": null,
   "metadata": {
    "vscode": {
     "languageId": "javascript"
    }
   },
   "outputs": [],
   "source": [
    "%%script node\n",
    "\n",
    "function processOrder(order) {\n",
    "  // Calculate order total\n",
    "  let total = 0;\n",
    "  order.items.forEach(item => {\n",
    "    total += item.price * item.quantity;\n",
    "  });\n",
    "\n",
    "  // Apply discount (if any)\n",
    "  if (order.discountCode) {\n",
    "    if (order.discountCode === \"SUMMER10\") {\n",
    "      total *= 0.9;\n",
    "    } else if (order.discountCode === \"BLACKFRIDAY\") {\n",
    "      total *= 0.8;\n",
    "    }\n",
    "  }\n",
    "\n",
    "  // Prepare order for shipping\n",
    "  const shippingAddress = `${order.shippingInfo.street}, ${order.shippingInfo.city}, ${order.shippingInfo.state}, ${order.shippingInfo.zipCode}`;\n",
    "\n",
    "  // Send confirmation email\n",
    "  const emailSubject = `Order Confirmation: ${order.id}`;\n",
    "  const emailBody = `Your order has been received and will be shipped to: ${shippingAddress}. The order total is $${total.toFixed(2)}.`;\n",
    "  sendEmail(order.customer.email, emailSubject, emailBody);\n",
    "}"
   ]
  },
  {
   "cell_type": "code",
   "execution_count": null,
   "metadata": {},
   "outputs": [],
   "source": [
    "def process_order(order):\n",
    "    # Calculate order total\n",
    "    total = sum(item['price'] * item['quantity'] for item in order['items'])\n",
    "\n",
    "    # Apply discount (if any)\n",
    "    if order['discount_code']:\n",
    "        if order['discount_code'] == \"SUMMER10\":\n",
    "            total *= 0.9\n",
    "        elif order['discount_code'] == \"BLACKFRIDAY\":\n",
    "            total *= 0.8\n",
    "\n",
    "    # Prepare order for shipping\n",
    "    shipping_address = f\"{order['shipping_info']['street']}, {order['shipping_info']['city']}, {order['shipping_info']['state']}, {order['shipping_info']['zip_code']}\"\n",
    "\n",
    "    # Send confirmation email\n",
    "    email_subject = f\"Order Confirmation: {order['id']}\"\n",
    "    email_body = f\"Your order has been received and will be shipped to: {shipping_address}. The order total is ${total:.2f}.\"\n",
    "    send_email(order['customer']['email'], email_subject, email_body)"
   ]
  },
  {
   "attachments": {},
   "cell_type": "markdown",
   "metadata": {},
   "source": [
    "### Solution\n",
    "\n",
    "In the improved version, we have separated the concerns into smaller, more focused functions. Each function is responsible for a specific part of the order processing, making the code easier to read, understand, maintain, and test. The `processOrder` and `process_order` functions now acts as a coordinator that calls these smaller functions in sequence.\n",
    "\n",
    "By splitting the function into smaller functions with a single purpose we can:\n",
    "- Improve the modularity, readability, maintainability, and testability of our code\n",
    "- Make the code easier to reason about\n",
    "- Handle errors more gracefully"
   ]
  },
  {
   "cell_type": "code",
   "execution_count": null,
   "metadata": {
    "vscode": {
     "languageId": "javascript"
    }
   },
   "outputs": [],
   "source": [
    "%%script node\n",
    "\n",
    "function calculateOrderTotal(order) {\n",
    "  let total = 0;\n",
    "  order.items.forEach(item => {\n",
    "    total += item.price * item.quantity;\n",
    "  });\n",
    "  return total;\n",
    "}\n",
    "\n",
    "function applyDiscount(total, discountCode) {\n",
    "  if (discountCode === \"SUMMER10\") {\n",
    "    return total * 0.9;\n",
    "  } else if (discountCode === \"BLACKFRIDAY\") {\n",
    "    return total * 0.8;\n",
    "  }\n",
    "  return total;\n",
    "}\n",
    "\n",
    "function prepareShippingAddress(shippingInfo) {\n",
    "  return `${shippingInfo.street}, ${shippingInfo.city}, ${shippingInfo.state}, ${shippingInfo.zipCode}`;\n",
    "}\n",
    "\n",
    "function sendOrderConfirmationEmail(order, total, shippingAddress) {\n",
    "  const emailSubject = `Order Confirmation: ${order.id}`;\n",
    "  const emailBody = `Your order has been received and will be shipped to: ${shippingAddress}. The order total is $${total.toFixed(2)}.`;\n",
    "  sendEmail(order.customer.email, emailSubject, emailBody);\n",
    "}\n",
    "\n",
    "function processOrder(order) {\n",
    "  let total = calculateOrderTotal(order);\n",
    "  total = applyDiscount(total, order.discountCode);\n",
    "  const shippingAddress = prepareShippingAddress(order.shippingInfo);\n",
    "  sendOrderConfirmationEmail(order, total, shippingAddress);\n",
    "}\n"
   ]
  },
  {
   "cell_type": "code",
   "execution_count": null,
   "metadata": {},
   "outputs": [],
   "source": [
    "def calculate_order_total(order):\n",
    "    return sum(item['price'] * item['quantity'] for item in order['items'])\n",
    "\n",
    "def apply_discount(total, discount_code):\n",
    "    if discount_code == \"SUMMER10\":\n",
    "        return total * 0.9\n",
    "    elif discount_code == \"BLACKFRIDAY\":\n",
    "        return total * 0.8\n",
    "    return total\n",
    "\n",
    "def prepare_shipping_address(shipping_info):\n",
    "    return f\"{shipping_info['street']}, {shipping_info['city']}, {shipping_info['state']}, {shipping_info['zip_code']}\"\n",
    "\n",
    "def send_order_confirmation_email(order, total, shipping_address):\n",
    "    email_subject = f\"Order Confirmation: {order['id']}\"\n",
    "    email_body = f\"Your order has been received and will be shipped to: {shipping_address}. The order total is ${total:.2f}.\"\n",
    "    send_email(order['customer']['email'], email_subject, email_body)\n",
    "\n",
    "def process_order(order):\n",
    "    total = calculate_order_total(order)\n",
    "    total = apply_discount(total, order['discount_code'])\n",
    "    shipping_address = prepare_shipping_address(order['shipping_info'])\n",
    "    send_order_confirmation_email(order, total, shipping_address)"
   ]
  },
  {
   "attachments": {},
   "cell_type": "markdown",
   "metadata": {},
   "source": [
    "## Smell 4\n",
    "\n",
    "<details>\n",
    "  <summary>What is the smell?</summary>\n",
    "\n",
    "  **Duplicated code**\n",
    "  \n",
    "  Having the same code in multiple places can make the code harder to maintain, or lead to bugs.\n",
    "\n",
    "</details>\n"
   ]
  },
  {
   "cell_type": "code",
   "execution_count": null,
   "metadata": {
    "vscode": {
     "languageId": "javascript"
    }
   },
   "outputs": [],
   "source": [
    "%%script node\n",
    "\n",
    "function calculateTotalPrice(items) {\n",
    "  let totalPrice = 0;\n",
    "  for (let i = 0; i < items.length; i++) {\n",
    "    totalPrice += items[i].price;\n",
    "  }\n",
    "  return totalPrice;\n",
    "}\n",
    "\n",
    "function calculateAveragePrice(items) {\n",
    "  let totalPrice = 0;\n",
    "  for (let i = 0; i < items.length; i++) {\n",
    "    totalPrice += items[i].price;\n",
    "  }\n",
    "  const average = totalPrice / items.length;\n",
    "  return average;\n",
    "}"
   ]
  },
  {
   "cell_type": "code",
   "execution_count": null,
   "metadata": {},
   "outputs": [],
   "source": [
    "def calculate_total_price(items):\n",
    "    total_price = 0\n",
    "    for item in items:\n",
    "        total_price += item['price']\n",
    "    return total_price\n",
    "\n",
    "def calculate_average_price(items):\n",
    "    total_price = 0\n",
    "    for item in items:\n",
    "        total_price += item['price']\n",
    "    average = total_price / len(items)\n",
    "    return average"
   ]
  },
  {
   "attachments": {},
   "cell_type": "markdown",
   "metadata": {},
   "source": [
    "### Solution\n",
    "\n",
    "The `calculateTotalPrice` and `calculate_total_price` functions can be re-used when calculating the average price. This avoids duplication and makes the code easier to read.\n",
    "\n",
    "<i>\n",
    "While the DRY (Don't Repeat Yourself) principle is a good guideline for writing clean and maintainable code, there are a few potential pitfalls to keep in mind when trying to make code DRY too soon:\n",
    "\n",
    "- Premature abstraction: If you try to abstract away code that is not yet stable or fully understood, you may end up creating more complexity and making it harder to change the code in the future.\n",
    "- Over-engineering: If you try to make code DRY too soon, you may end up over-engineering your solution and making it more complex than it needs to be, which can lead to additional bugs and maintenance overhead.\n",
    "- Poor readability: If you focus too much on making code DRY, you may end up sacrificing readability and making it harder for other developers to understand the code.\n",
    "- Premature optimization: If you focus too much on making code DRY, you may end up optimizing code that does not yet need to be optimized, which can lead to wasted effort and slower development times.\n",
    "</i>\n"
   ]
  },
  {
   "cell_type": "code",
   "execution_count": null,
   "metadata": {
    "vscode": {
     "languageId": "javascript"
    }
   },
   "outputs": [],
   "source": [
    "%%script node\n",
    "\n",
    "function calculatePrice(items) {\n",
    "  let totalPrice = 0;\n",
    "\n",
    "  for (let i = 0; i < items.length; i++) {\n",
    "    totalPrice += items[i].price;\n",
    "  }\n",
    "\n",
    "  return totalPrice;\n",
    "}\n",
    "\n",
    "function calculateAveragePrice(items) {\n",
    "  if (items.length === 0) {\n",
    "    return 0;\n",
    "  }\n",
    "\n",
    "  const totalPrice = calculatePrice(items);\n",
    "  const averagePrice = totalPrice / items.length;\n",
    "\n",
    "  return averagePrice;\n",
    "}"
   ]
  },
  {
   "cell_type": "code",
   "execution_count": null,
   "metadata": {},
   "outputs": [],
   "source": [
    "def calculate_price(items):\n",
    "    total_price = sum(item['price'] for item in items)\n",
    "    return total_price\n",
    "\n",
    "def calculate_average_price(items):\n",
    "    if len(items) == 0:\n",
    "        return 0\n",
    "\n",
    "    total_price = calculate_price(items)\n",
    "    average_price = total_price / len(items)\n",
    "    return average_price"
   ]
  },
  {
   "attachments": {},
   "cell_type": "markdown",
   "metadata": {},
   "source": [
    "## Smell 5\n",
    "\n",
    "<details>\n",
    "  <summary>What is the smell?</summary>\n",
    "\n",
    "  **Function is too long**\n",
    "  \n",
    "  Functions that are too long can be hard to read and understand. It can also be a sign that the function is doing too much and should be split into smaller functions, i.e. \"mixing concerns\".\n",
    "</details>\n"
   ]
  },
  {
   "cell_type": "code",
   "execution_count": null,
   "metadata": {},
   "outputs": [],
   "source": [
    "def generate_report(data):\n",
    "    # 400 lines of code...\n",
    "    True"
   ]
  },
  {
   "attachments": {},
   "cell_type": "markdown",
   "metadata": {},
   "source": [
    "### Solution\n",
    "\n",
    "- Break the function into smaller, more focused functions: Identify distinct pieces of logic within the function and extract them into separate functions.\n",
    "- Eliminate duplication: Look for code that is repeated within the function and extract it into a separate function."
   ]
  },
  {
   "attachments": {},
   "cell_type": "markdown",
   "metadata": {},
   "source": [
    "## Smell 6\n",
    "\n",
    "<details>\n",
    "  <summary>What is the smell?</summary>\n",
    "\n",
    "  **Deeply nested code**\n",
    "  \n",
    "  Nested loops make the code difficult to read and understand, and it may be hard to modify or extend the function.\n",
    "</details>\n"
   ]
  },
  {
   "cell_type": "code",
   "execution_count": null,
   "metadata": {
    "vscode": {
     "languageId": "javascript"
    }
   },
   "outputs": [],
   "source": [
    "%%script node\n",
    "\n",
    "function findLargestNumber(arrays) {\n",
    "  let largest = -Infinity;\n",
    "  if (Array.isArray(arrays)) {\n",
    "    for (let i = 0; i < arrays.length; i++) {\n",
    "      const innerArray = arrays[i];\n",
    "      if (Array.isArray(innerArray)) {\n",
    "        for (let j = 0; j < innerArray.length; j++) {\n",
    "          const value = innerArray[j];\n",
    "          if (value > largest) {\n",
    "            largest = value;\n",
    "          }\n",
    "        }\n",
    "      }\n",
    "    }\n",
    "  }\n",
    "  return largest === -Infinity ? null : largest;\n",
    "}\n",
    "\n",
    "const arrays = [\n",
    "  [1, 7, 12],\n",
    "  [19, 24, 32, 8]\n",
    "];\n",
    "\n",
    "console.log(findLargestNumber(arrays)); // 32"
   ]
  },
  {
   "cell_type": "code",
   "execution_count": null,
   "metadata": {},
   "outputs": [],
   "source": [
    "def find_largest_number(arrays):\n",
    "    largest = float('-inf')\n",
    "    if isinstance(arrays, list):\n",
    "        for inner_array in arrays:\n",
    "            if isinstance(inner_array, list):\n",
    "                for value in inner_array:\n",
    "                    if value > largest:\n",
    "                        largest = value\n",
    "    return largest if largest != float('-inf') else None\n",
    "\n",
    "arrays = [\n",
    "  [1, 7, 12],\n",
    "  [19, 24, 32, 8]\n",
    "]\n",
    "\n",
    "print(find_largest_number(arrays)) # 32"
   ]
  },
  {
   "attachments": {},
   "cell_type": "markdown",
   "metadata": {},
   "source": [
    "### Solution\n",
    "\n",
    "In this refactored code, we flatten the array to avoid nested loops, and use `Math.max` and `max` to find the largest value."
   ]
  },
  {
   "cell_type": "code",
   "execution_count": null,
   "metadata": {
    "vscode": {
     "languageId": "javascript"
    }
   },
   "outputs": [],
   "source": [
    "%%script node\n",
    "\n",
    "function findLargestNumber(arrays) {\n",
    "  const flatArray = arrays.flatMap(array => array);\n",
    "  return flatArray.length ? Math.max(...flatArray) : null;\n",
    "}\n",
    "\n",
    "const arrays = [\n",
    "  [1, 7, 12],\n",
    "  [19, 24, 32, 8]\n",
    "];\n",
    "\n",
    "console.log(findLargestNumber(arrays)); // 32"
   ]
  },
  {
   "cell_type": "code",
   "execution_count": null,
   "metadata": {},
   "outputs": [],
   "source": [
    "def find_largest_number(arrays):\n",
    "    flat_list = [value for inner_list in arrays for value in inner_list]\n",
    "    return max(flat_list) if flat_list else None\n",
    "\n",
    "arrays = [\n",
    "  [1, 7, 12],\n",
    "  [19, 24, 32, 8]\n",
    "]\n",
    "\n",
    "print(find_largest_number(arrays)) # 32"
   ]
  },
  {
   "attachments": {},
   "cell_type": "markdown",
   "metadata": {},
   "source": [
    "## Smell 7\n",
    "\n",
    "<details>\n",
    "  <summary>What is the smell?</summary>\n",
    "\n",
    "  **Using magic numbers**\n",
    "  \n",
    "  Magic numbers are hardcoded numerical values that are not explained by their context, which can make the code difficult to understand and maintain.\n",
    "</details>"
   ]
  },
  {
   "cell_type": "code",
   "execution_count": null,
   "metadata": {
    "vscode": {
     "languageId": "javascript"
    }
   },
   "outputs": [],
   "source": [
    "%%script node\n",
    "\n",
    "function areaInSqMeters(lengthFeet, widthFeet) {\n",
    "  const areaInFeet = lengthFeet * widthFeet;\n",
    "  return areaInFeet * Math.pow(0.3048, 2);\n",
    "}\n",
    "\n",
    "console.log(areaInSqMeters(10, 20)); // 18.580608"
   ]
  },
  {
   "cell_type": "code",
   "execution_count": null,
   "metadata": {},
   "outputs": [],
   "source": [
    "def area_in_sq_meters(length_feet, width_feet):\n",
    "    area_in_feet = length_feet * width_feet\n",
    "    return area_in_feet * 0.3048 ** 2\n",
    "\n",
    "print(area_in_sq_meters(10, 20)) # 18.580608"
   ]
  },
  {
   "attachments": {},
   "cell_type": "markdown",
   "metadata": {},
   "source": [
    "### Solution\n",
    "\n",
    "By using a named constant, we make the code more readable and easier to maintain, because the purpose and meaning of the number is now clear.\n",
    "\n",
    "Additionally, if we need to change the value later (unlikely in this case), we can do so by simply updating the value of the constant, rather than searching through the code to find all instances of the magic number."
   ]
  },
  {
   "cell_type": "code",
   "execution_count": null,
   "metadata": {
    "vscode": {
     "languageId": "javascript"
    }
   },
   "outputs": [],
   "source": [
    "%%script node\n",
    "\n",
    "const FEET_TO_METERS_CONVERSION_FACTOR = 0.3048;\n",
    "\n",
    "function areaInSqMeters(lengthFeet, widthFeet) {  \n",
    "  const areaInFeet = lengthFeet * widthFeet;\n",
    "  return areaInFeet * Math.pow(FEET_TO_METERS_CONVERSION_FACTOR, 2);\n",
    "}\n",
    "\n",
    "function feetToMeters(length) {\n",
    "  return length * FEET_TO_METERS_CONVERSION_FACTOR;\n",
    "}\n",
    "\n",
    "console.log(areaInSqMeters(10, 20)); // 18.580608"
   ]
  },
  {
   "cell_type": "code",
   "execution_count": null,
   "metadata": {},
   "outputs": [],
   "source": [
    "FEET_TO_METERS_CONVERSION_FACTOR = 0.3048\n",
    "\n",
    "def area_in_sq_meters(length_feet, width_feet):\n",
    "    area_in_feet = length_feet * width_feet\n",
    "    return area_in_feet * FEET_TO_METERS_CONVERSION_FACTOR ** 2\n",
    "\n",
    "print(area_in_sq_meters(10, 20)) # 18.580608"
   ]
  },
  {
   "attachments": {},
   "cell_type": "markdown",
   "metadata": {},
   "source": [
    "## Smell 8\n",
    "\n",
    "<details>\n",
    "  <summary>What is the smell?</summary>\n",
    "\n",
    "  **Inconsistent naming**\n",
    "  \n",
    "  Inconsistent naming can make the code harder to read and understand. Adopting consistent naming conventions across the code base can improve readability and maintainability.\n",
    "</details>"
   ]
  },
  {
   "cell_type": "code",
   "execution_count": null,
   "metadata": {
    "vscode": {
     "languageId": "javascript"
    }
   },
   "outputs": [],
   "source": [
    "%%script node\n",
    "\n",
    "function getUser(auth0User) {\n",
    "  return database.getUserById(auth0User);\n",
    "}\n",
    "\n",
    "function deleteUserById(userId) {\n",
    "  return database.deleteUser(userId);\n",
    "}\n",
    "\n",
    "const auth0UserId = user.auth0UserId;\n",
    "\n",
    "const user = getUser(auth0UserId);\n",
    "\n",
    "// ...later\n",
    "\n",
    "deleteUserById(auth0UserId);"
   ]
  },
  {
   "cell_type": "code",
   "execution_count": null,
   "metadata": {},
   "outputs": [],
   "source": [
    "def get_user(auth0_user):\n",
    "  return database.get_user_by_id(auth0_user)\n",
    "\n",
    "def delete_user_by_id(user_id):\n",
    "  return database.delete_user(user_id)\n",
    "\n",
    "auth0UserId = user['auth0UserId']\n"
   ]
  },
  {
   "attachments": {},
   "cell_type": "markdown",
   "metadata": {},
   "source": [
    "### Solution\n",
    "\n",
    "In this version we are referring to the user's id in a consistent way, i.e. `auth0UserId` and `auth0_user_id`. The function names also follow the same naming convention and make the expected input clear."
   ]
  },
  {
   "cell_type": "code",
   "execution_count": null,
   "metadata": {
    "vscode": {
     "languageId": "javascript"
    }
   },
   "outputs": [],
   "source": [
    "function getUserByAuth0Id(auth0UserId) {\n",
    "  return database.getUserByAuth0Id(auth0UserId);\n",
    "}\n",
    "\n",
    "function deleteUserByAuth0Id(auth0UserId) {\n",
    "  return database.deleteUserByAuth0Id(auth0UserId);\n",
    "}\n",
    "\n",
    "const auth0UserId = user.auth0UserId;"
   ]
  },
  {
   "cell_type": "code",
   "execution_count": null,
   "metadata": {},
   "outputs": [],
   "source": [
    "def get_user_by_auth0_id(auth0_user_id):\n",
    "  return database.get_user_by_auth0_id(auth0_user_id)\n",
    "\n",
    "def delete_user_by_auth0_id(auth0_user_id):\n",
    "  return database.delete_user_by_auth0_id(auth0_user_id)\n",
    "\n",
    "auth0_user_id = user['auth0UserId']"
   ]
  },
  {
   "attachments": {},
   "cell_type": "markdown",
   "metadata": {},
   "source": [
    "## Smell 9\n",
    "\n",
    "<details>\n",
    "  <summary>What is the smell?</summary>\n",
    "\n",
    "  **Complex Conditionals**\n",
    "\n",
    "  Large or nested conditionals can impact the following:\n",
    "  - **Readability**: Complex conditionals can be challenging to comprehend, as they require the reader to understand multiple conditions and their relationships. This cognitive load can lead to misunderstandings and mistakes.\n",
    "  - **Maintainability**: Modifying, extending, or refactoring code with large or nested conditionals can be complex and error-prone. It's more challenging to make changes without accidentally introducing bugs or affecting other parts of the code.\n",
    "  - **Testability**: Writing comprehensive tests that cover all possible execution paths becomes more difficult with complex conditionals. This can result in insufficient test coverage and undetected bugs.\n",
    "  \n",
    "</details>\n"
   ]
  },
  {
   "cell_type": "code",
   "execution_count": null,
   "metadata": {
    "vscode": {
     "languageId": "javascript"
    }
   },
   "outputs": [],
   "source": [
    "%%script node\n",
    "\n",
    "function calculateDiscount(price, user) {\n",
    "  let discount = 0;\n",
    "\n",
    "  if (user) {\n",
    "    if (user.membership) {\n",
    "      if (user.membership === 'gold') {\n",
    "        discount = price * 0.2;\n",
    "      } else if (user.membership === 'silver') {\n",
    "        discount = price * 0.1;\n",
    "      } else if (user.membership === 'bronze') {\n",
    "        discount = price * 0.05;\n",
    "      }\n",
    "    } else {\n",
    "      if (price > 100) {\n",
    "        discount = price * 0.02;\n",
    "      } else {\n",
    "        discount = 0;\n",
    "      }\n",
    "    }\n",
    "  } else {\n",
    "    discount = 0;\n",
    "  }\n",
    "\n",
    "  return discount;\n",
    "}"
   ]
  },
  {
   "cell_type": "code",
   "execution_count": null,
   "metadata": {},
   "outputs": [],
   "source": [
    "def calculate_discount(price, user):\n",
    "    discount = 0\n",
    "\n",
    "    if user:\n",
    "        if user['membership']:\n",
    "            if user['membership'] == 'gold':\n",
    "                discount = price * 0.2\n",
    "            elif user['membership'] == 'silver':\n",
    "                discount = price * 0.1\n",
    "            elif user['membership'] == 'bronze':\n",
    "                discount = price * 0.05\n",
    "        else:\n",
    "            if price > 100:\n",
    "                discount = price * 0.02\n",
    "            else:\n",
    "                discount = 0\n",
    "    else:\n",
    "        discount = 0\n",
    "\n",
    "    return discount"
   ]
  },
  {
   "cell_type": "markdown",
   "metadata": {},
   "source": [
    "### Solution\n",
    "\n",
    "In the improved version, we use early returns to simplify the code and reduce the level of nesting. This makes the code easier to read, understand, and maintain. Each condition is evaluated in isolation, and when a specific condition is met, the corresponding discount is returned immediately. If none of the conditions are met, a default value of 0 is returned at the end of the function."
   ]
  },
  {
   "cell_type": "code",
   "execution_count": null,
   "metadata": {
    "vscode": {
     "languageId": "javascript"
    }
   },
   "outputs": [],
   "source": [
    "%%script node\n",
    "\n",
    "const MEMBER_DISCOUNTS = {\n",
    "  gold: 0.2,\n",
    "  // ...\n",
    "}\n",
    "\n",
    "\n",
    "function calculateDiscount(price, user) {\n",
    "  if (!user) {\n",
    "    return 0;\n",
    "  }\n",
    "\n",
    "  if (!user.membership) {\n",
    "    if (price > 100) {\n",
    "      return price * 0.02;\n",
    "    }\n",
    "    return 0;\n",
    "  }\n",
    "\n",
    "  if (user.membership === 'gold') {\n",
    "    return price * 0.2;\n",
    "  }\n",
    "\n",
    "  if (user.membership === 'silver') {\n",
    "    return price * 0.1;\n",
    "  }\n",
    "\n",
    "  if (user.membership === 'bronze') {\n",
    "    return price * 0.05;\n",
    "  }\n",
    "\n",
    "  return 0;\n",
    "}"
   ]
  },
  {
   "cell_type": "code",
   "execution_count": null,
   "metadata": {},
   "outputs": [],
   "source": [
    "def calculate_discount(price, user):\n",
    "    if not user:\n",
    "        return 0\n",
    "\n",
    "    if not user.get('membership'):\n",
    "        if price > 100:\n",
    "            return price * 0.02\n",
    "        return 0\n",
    "\n",
    "    if user['membership'] == 'gold':\n",
    "        return price * 0.2\n",
    "\n",
    "    if user['membership'] == 'silver':\n",
    "        return price * 0.1\n",
    "\n",
    "    if user['membership'] == 'bronze':\n",
    "        return price * 0.05\n",
    "\n",
    "    return 0"
   ]
  },
  {
   "attachments": {},
   "cell_type": "markdown",
   "metadata": {},
   "source": [
    "## Smell 10\n",
    "\n",
    "<details>\n",
    "  <summary>What is the smell?</summary>\n",
    "\n",
    "  **Not handling errors when making API calls**\n",
    "  \n",
    "  When making API calls, it's important to handle errors properly. Failure to do so can result in unexpected behavior or errors.\n",
    "</details>\n"
   ]
  },
  {
   "cell_type": "code",
   "execution_count": null,
   "metadata": {
    "vscode": {
     "languageId": "javascript"
    }
   },
   "outputs": [],
   "source": [
    "%%script node\n",
    "\n",
    "fetch('https://example.com/api/data')\n",
    "  .then(response => response.json())\n",
    "  .then(data => {\n",
    "    // do something with data\n",
    "  })"
   ]
  },
  {
   "cell_type": "code",
   "execution_count": null,
   "metadata": {},
   "outputs": [],
   "source": [
    "import requests\n",
    "\n",
    "response = requests.get('https://example.com/api/data')\n",
    "data = response.json()\n",
    "# do something with data"
   ]
  },
  {
   "attachments": {},
   "cell_type": "markdown",
   "metadata": {},
   "source": [
    "### Solution\n",
    "\n",
    "With this update we are checking that the response from the API is \"ok\" before attempting to operate on the returned data. If an error occurs the code handles it appropriately. "
   ]
  },
  {
   "cell_type": "code",
   "execution_count": null,
   "metadata": {
    "vscode": {
     "languageId": "javascript"
    }
   },
   "outputs": [],
   "source": [
    "%%script node\n",
    "\n",
    "fetch('https://api.example.com/users')\n",
    "  .then(response => {\n",
    "    if (!response.ok) {\n",
    "      throw new Error('Network response was not ok');\n",
    "    }\n",
    "    return response.json();\n",
    "  })\n",
    "  .then(data => {\n",
    "    // Handle successful response\n",
    "    console.log(data);\n",
    "  })\n",
    "  .catch(error => {\n",
    "    // Handle error\n",
    "    console.error('Error:', error);\n",
    "  });\n"
   ]
  },
  {
   "cell_type": "code",
   "execution_count": null,
   "metadata": {},
   "outputs": [],
   "source": [
    "import requests\n",
    "\n",
    "response = requests.get('https://api.example.com/users')\n",
    "\n",
    "if response.status_code == requests.codes.ok:\n",
    "  # Handle successful response\n",
    "  data = response.json()\n",
    "  print(data)\n",
    "else:\n",
    "  # Handle error\n",
    "  print('Error:', response.status_code)\n"
   ]
  },
  {
   "attachments": {},
   "cell_type": "markdown",
   "metadata": {},
   "source": [
    "## Smell 11\n",
    "\n",
    "<details>\n",
    "  <summary>What is the smell?</summary>\n",
    "\n",
    "  **Mutating arguments**\n",
    "  \n",
    "  This function modifies the original array in place. This can lead to unexpected behavior and bugs in other parts of the code that relies on the original values in the array.\n",
    "</details>\n"
   ]
  },
  {
   "cell_type": "code",
   "execution_count": null,
   "metadata": {
    "vscode": {
     "languageId": "javascript"
    }
   },
   "outputs": [],
   "source": [
    "%%script node\n",
    "\n",
    "function doubleValues(values) {\n",
    "  for (let i = 0; i < values.length; i++) {\n",
    "    values[i] = values[i] * 2;\n",
    "  }\n",
    "  return values;\n",
    "}"
   ]
  },
  {
   "cell_type": "code",
   "execution_count": null,
   "metadata": {},
   "outputs": [],
   "source": [
    "def double_values(values):\n",
    "    for i in range(len(values)):\n",
    "        values[i] = values[i] * 2\n",
    "    return values"
   ]
  },
  {
   "attachments": {},
   "cell_type": "markdown",
   "metadata": {},
   "source": [
    "### Solution\n",
    "\n",
    "The updated function returns a new list instead of mutating the original."
   ]
  },
  {
   "cell_type": "code",
   "execution_count": 5,
   "metadata": {
    "vscode": {
     "languageId": "javascript"
    }
   },
   "outputs": [],
   "source": [
    "%%script node\n",
    "\n",
    "function doubleValues(values) {\n",
    "  const doubledValues = values.map(x => x * 2);\n",
    "  return doubledValues;\n",
    "}"
   ]
  },
  {
   "cell_type": "code",
   "execution_count": null,
   "metadata": {},
   "outputs": [],
   "source": [
    "def double_values(values):\n",
    "    doubled_values = list(map(lambda x: x * 2, values))\n",
    "    return doubled_values"
   ]
  },
  {
   "attachments": {},
   "cell_type": "markdown",
   "metadata": {},
   "source": [
    "## Other"
   ]
  },
  {
   "attachments": {},
   "cell_type": "markdown",
   "metadata": {},
   "source": [
    "<details>\n",
    "  <summary>What is the smell?</summary>\n",
    "\n",
    "  **Implicit type coercion**\n",
    "\n",
    "  Implicit type coercion can lead to unexpected results or errors in code.\n",
    "  \n",
    "</details>\n"
   ]
  },
  {
   "cell_type": "code",
   "execution_count": null,
   "metadata": {
    "vscode": {
     "languageId": "javascript"
    }
   },
   "outputs": [],
   "source": [
    "%%script node\n",
    "\n",
    "let x = 5;\n",
    "let y = \"10\";\n",
    "let z = x + y; // \"510\""
   ]
  },
  {
   "attachments": {},
   "cell_type": "markdown",
   "metadata": {},
   "source": [
    "<details>\n",
    "  <summary>What is the smell?</summary>\n",
    "\n",
    "  **Type mutation**\n",
    "\n",
    "  Type mutation can lead to confusion or errors if later parts of the code assume that the variable is still the orginal type.\n",
    "  \n",
    "</details>"
   ]
  },
  {
   "cell_type": "code",
   "execution_count": null,
   "metadata": {
    "vscode": {
     "languageId": "javascript"
    }
   },
   "outputs": [],
   "source": [
    "%%script node\n",
    "\n",
    "let foo = 'some-string';\n",
    "\n",
    "foo = foo.split('-');\n",
    "\n",
    "console.log(foo) // ['some', 'string']"
   ]
  },
  {
   "cell_type": "code",
   "execution_count": null,
   "metadata": {},
   "outputs": [],
   "source": [
    "# Clarity\n",
    "\n",
    "def auth_user(user_id, not_admin):\n",
    "  if not not_admin == True:\n",
    "    # do something\n",
    "    print(\"full access\")\n",
    "  else:\n",
    "    # do something\n",
    "    print(\"restricted access\")"
   ]
  },
  {
   "cell_type": "code",
   "execution_count": null,
   "metadata": {},
   "outputs": [],
   "source": [
    "# Unhelpful logging\n",
    "\n",
    "import logging\n",
    "\n",
    "def do_something(arg):\n",
    "    try:\n",
    "        result = arg.upper()\n",
    "    except TypeError as e:\n",
    "        logging.error('Error')\n",
    "        result = None\n",
    "    return result\n"
   ]
  }
 ],
 "metadata": {
  "kernelspec": {
   "display_name": "Python 3",
   "language": "python",
   "name": "python3"
  },
  "language_info": {
   "codemirror_mode": {
    "name": "ipython",
    "version": 3
   },
   "file_extension": ".py",
   "mimetype": "text/x-python",
   "name": "python",
   "nbconvert_exporter": "python",
   "pygments_lexer": "ipython3",
   "version": "3.9.16"
  },
  "orig_nbformat": 4,
  "vscode": {
   "interpreter": {
    "hash": "a898984c7f5a3ce9eca1f8586cad4530d73df52bf3e0fe93ceca3d9dfffd60d3"
   }
  }
 },
 "nbformat": 4,
 "nbformat_minor": 2
}
